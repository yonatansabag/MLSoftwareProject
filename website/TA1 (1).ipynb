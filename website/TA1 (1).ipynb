{
 "cells": [
  {
   "cell_type": "markdown",
   "id": "e762a71b",
   "metadata": {
    "slideshow": {
     "slide_type": "slide"
    }
   },
   "source": [
    "# Tutorial 1 - SentenceBert\n",
    "Import all necessary packages"
   ]
  },
  {
   "cell_type": "code",
   "execution_count": 1,
   "id": "initial_id",
   "metadata": {
    "ExecuteTime": {
     "end_time": "2024-05-12T10:08:13.964213Z",
     "start_time": "2024-05-12T10:08:13.960001Z"
    },
    "slideshow": {
     "slide_type": "fragment"
    }
   },
   "outputs": [],
   "source": [
    "import pandas as pd\n",
    "from sentence_transformers import SentenceTransformer\n",
    "from sklearn.model_selection import train_test_split\n",
    "from sklearn.neighbors import KNeighborsClassifier\n",
    "import warnings\n",
    "import numpy as np\n",
    "warnings.filterwarnings('ignore')"
   ]
  },
  {
   "cell_type": "markdown",
   "id": "544da0057e876e10",
   "metadata": {
    "slideshow": {
     "slide_type": "slide"
    }
   },
   "source": [
    "## Load the Sentence Transformer model"
   ]
  },
  {
   "cell_type": "code",
   "execution_count": 2,
   "id": "406dac3373b1f8bf",
   "metadata": {
    "ExecuteTime": {
     "end_time": "2024-05-12T10:08:15.609219Z",
     "start_time": "2024-05-12T10:08:14.013433Z"
    },
    "slideshow": {
     "slide_type": "subslide"
    }
   },
   "outputs": [
    {
     "name": "stdout",
     "output_type": "stream",
     "text": [
      "Sentence: This framework generates embeddings for each input sentence\n",
      "Embedding: [-0.01371735 -0.04285156 -0.01562862  0.0140538   0.03955379]\n",
      "\n",
      "Sentence: Sentences are passed as a list of string.\n",
      "Embedding: [ 0.05645249  0.0550024   0.0313796   0.03394846 -0.03542465]\n",
      "\n",
      "Sentence: The quick brown fox jumps over the lazy dog.\n",
      "Embedding: [0.04393354 0.05893435 0.04817838 0.07754801 0.02674439]\n",
      "\n"
     ]
    }
   ],
   "source": [
    "model = SentenceTransformer(\"all-MiniLM-L6-v2\")\n",
    "\n",
    "# Our sentences to encode\n",
    "sentences = [\n",
    "    \"This framework generates embeddings for each input sentence\",\n",
    "    \"Sentences are passed as a list of string.\",\n",
    "    \"The quick brown fox jumps over the lazy dog.\"\n",
    "]\n",
    "\n",
    "# Sentences are encoded by calling model.encode()\n",
    "embeddings = model.encode(sentences)\n",
    "\n",
    "# Print the embeddings\n",
    "for sentence, embedding in zip(sentences, embeddings):\n",
    "    print(\"Sentence:\", sentence)\n",
    "    print(\"Embedding:\", embedding[:5])\n",
    "    print(\"\")"
   ]
  },
  {
   "cell_type": "markdown",
   "id": "c861e74b6dc3925b",
   "metadata": {
    "slideshow": {
     "slide_type": "slide"
    }
   },
   "source": [
    "## The Amazon Reviews dataset \n",
    "The Amazon Reviews dataset consists of three columns:  \n",
    "<ul>\n",
    "<li> Polarity: This is the sentiment of the review. It is a binary variable with '0' indicating a negative sentiment and '1' indicating a positive sentiment.  </li>\n",
    "<li> Title: This is the title of the review. It is a string that summarizes the reviewer's experience in a few words.  </li>\n",
    "<li> Text: This is the main body of the review. It contains the detailed opinion of the reviewer about the product.</li> \n",
    "</ul>\n",
    "\n",
    "The dataset provides valuable insights into customer opinions and sentiments towards products. It can be used for various tasks such as sentiment analysis, text classification, and customer behavior prediction.<hr></hr>"
   ]
  },
  {
   "cell_type": "code",
   "execution_count": 3,
   "id": "14028b5a494299d",
   "metadata": {
    "ExecuteTime": {
     "end_time": "2024-05-12T10:08:33.704180Z",
     "start_time": "2024-05-12T10:08:15.611226Z"
    },
    "slideshow": {
     "slide_type": "subslide"
    }
   },
   "outputs": [
    {
     "data": {
      "text/html": [
       "<div>\n",
       "<style scoped>\n",
       "    .dataframe tbody tr th:only-of-type {\n",
       "        vertical-align: middle;\n",
       "    }\n",
       "\n",
       "    .dataframe tbody tr th {\n",
       "        vertical-align: top;\n",
       "    }\n",
       "\n",
       "    .dataframe thead th {\n",
       "        text-align: right;\n",
       "    }\n",
       "</style>\n",
       "<table border=\"1\" class=\"dataframe\">\n",
       "  <thead>\n",
       "    <tr style=\"text-align: right;\">\n",
       "      <th></th>\n",
       "      <th>polarity</th>\n",
       "      <th>title</th>\n",
       "      <th>text</th>\n",
       "    </tr>\n",
       "  </thead>\n",
       "  <tbody>\n",
       "    <tr>\n",
       "      <th>0</th>\n",
       "      <td>1</td>\n",
       "      <td>Stuning even for the non-gamer</td>\n",
       "      <td>This sound track was beautiful! It paints the ...</td>\n",
       "    </tr>\n",
       "    <tr>\n",
       "      <th>1</th>\n",
       "      <td>1</td>\n",
       "      <td>The best soundtrack ever to anything.</td>\n",
       "      <td>I'm reading a lot of reviews saying that this ...</td>\n",
       "    </tr>\n",
       "    <tr>\n",
       "      <th>2</th>\n",
       "      <td>1</td>\n",
       "      <td>Amazing!</td>\n",
       "      <td>This soundtrack is my favorite music of all ti...</td>\n",
       "    </tr>\n",
       "    <tr>\n",
       "      <th>3</th>\n",
       "      <td>1</td>\n",
       "      <td>Excellent Soundtrack</td>\n",
       "      <td>I truly like this soundtrack and I enjoy video...</td>\n",
       "    </tr>\n",
       "    <tr>\n",
       "      <th>4</th>\n",
       "      <td>1</td>\n",
       "      <td>Remember, Pull Your Jaw Off The Floor After He...</td>\n",
       "      <td>If you've played the game, you know how divine...</td>\n",
       "    </tr>\n",
       "  </tbody>\n",
       "</table>\n",
       "</div>"
      ],
      "text/plain": [
       "   polarity                                              title  \\\n",
       "0         1                     Stuning even for the non-gamer   \n",
       "1         1              The best soundtrack ever to anything.   \n",
       "2         1                                           Amazing!   \n",
       "3         1                               Excellent Soundtrack   \n",
       "4         1  Remember, Pull Your Jaw Off The Floor After He...   \n",
       "\n",
       "                                                text  \n",
       "0  This sound track was beautiful! It paints the ...  \n",
       "1  I'm reading a lot of reviews saying that this ...  \n",
       "2  This soundtrack is my favorite music of all ti...  \n",
       "3  I truly like this soundtrack and I enjoy video...  \n",
       "4  If you've played the game, you know how divine...  "
      ]
     },
     "execution_count": 3,
     "metadata": {},
     "output_type": "execute_result"
    }
   ],
   "source": [
    "# Load the dataset\n",
    "df = pd.read_csv('archive/train.csv', header=None, names=(\"polarity\", \"title\", \"text\"))\n",
    "# Convert labels to '0' and '1'\n",
    "df.polarity = df.polarity.map({1: 0, 2: 1})\n",
    "# Display the first 5 rows of the dataset\n",
    "df.head(5)"
   ]
  },
  {
   "cell_type": "markdown",
   "id": "9880d4bb",
   "metadata": {
    "slideshow": {
     "slide_type": "slide"
    }
   },
   "source": [
    "# We will create some helper functions to find neighbors based on euclidean distance"
   ]
  },
  {
   "cell_type": "code",
   "execution_count": 4,
   "id": "53f4a1aefd0accf6",
   "metadata": {
    "ExecuteTime": {
     "end_time": "2024-05-12T10:08:33.714146Z",
     "start_time": "2024-05-12T10:08:33.705187Z"
    },
    "slideshow": {
     "slide_type": "fragment"
    }
   },
   "outputs": [],
   "source": [
    "def create_cosine_similarity_matrix(vectors_1, vectors_2):\n",
    "    \"\"\"\n",
    "    This function computes the pairwise cosine similarity between vectors in a matrix.\n",
    "    Args:\n",
    "        vectors_1: A 2D numpy array where each row represents a vector.\n",
    "        vectors_2: A 2D numpy array where each row represents a vector.\n",
    "    Returns:\n",
    "         A 2D numpy array where the element at position (i, j) represents the cosine similarity between vectors[i] and vectors[j].\n",
    "    \"\"\"\n",
    "    \n",
    "    # Normalize the vectors\n",
    "    vectors_1_norm = vectors_1 / np.linalg.norm(vectors_1, axis=1, keepdims=True)\n",
    "    vectors_2_norm = vectors_2 / np.linalg.norm(vectors_2, axis=1, keepdims=True)\n",
    "    \n",
    "    # Compute cosine similarity\n",
    "    cosine_similarity_matrix = np.dot(vectors_1_norm, vectors_2_norm.T)\n",
    "    \n",
    "    return cosine_similarity_matrix"
   ]
  },
  {
   "cell_type": "code",
   "execution_count": 5,
   "id": "7c335036c708700b",
   "metadata": {
    "ExecuteTime": {
     "end_time": "2024-05-12T10:08:33.745722Z",
     "start_time": "2024-05-12T10:08:33.717960Z"
    },
    "slideshow": {
     "slide_type": "subslide"
    }
   },
   "outputs": [],
   "source": [
    "def find_nearest_neighbors(embeddings_1, embeddings_2, k=3):\n",
    "    \"\"\"\n",
    "    This function finds the k-nearest neighbors for each vector in a matrix.\n",
    "    Args:\n",
    "        embeddings_1: A 2D numpy array where each row represents a vector.\n",
    "        embeddings_2: A 2D numpy array where each row represents a vector.\n",
    "        k: The number of nearest neighbors to find.\n",
    "    Returns:\n",
    "        A 2D numpy array where the element at position (i, j) represents the index of the j-th nearest neighbor of embeddings_1[i] in embeddings_2.\n",
    "    \"\"\"\n",
    "    # Compute cosine similarity matrix\n",
    "    cosine_similarity_matrix = create_cosine_similarity_matrix(embeddings_1, embeddings_2)\n",
    "    \n",
    "    # Find the indices of the k-nearest neighbors\n",
    "    nearest_neighbors_indices = np.argsort(-cosine_similarity_matrix, axis=1)[:, 1:k+1]\n",
    "    \n",
    "    return nearest_neighbors_indices"
   ]
  },
  {
   "cell_type": "markdown",
   "id": "a6fce662",
   "metadata": {
    "slideshow": {
     "slide_type": "slide"
    }
   },
   "source": [
    "Embedd both positive and negative reviews"
   ]
  },
  {
   "cell_type": "code",
   "execution_count": 6,
   "id": "497df44c9ab8bd48",
   "metadata": {
    "ExecuteTime": {
     "end_time": "2024-05-12T10:09:35.570821Z",
     "start_time": "2024-05-12T10:08:33.747996Z"
    },
    "slideshow": {
     "slide_type": "fragment"
    }
   },
   "outputs": [],
   "source": [
    "%%time\n",
    "# Filter only positive and negative reviews\n",
    "positive_reviews = df[df.polarity == 1].text.tolist()[:500]\n",
    "negative_reviews = df[df.polarity == 0].text.tolist()[:500]\n",
    "all_reviews = positive_reviews + negative_reviews\n",
    "\n",
    "# Embedd the reviews\n",
    "positive_embeddings = model.encode(positive_reviews)\n",
    "negative_embeddings = model.encode(negative_reviews)\n",
    "all_embeddings = model.encode(all_reviews)"
   ]
  },
  {
   "cell_type": "markdown",
   "id": "c1dd4c068826c2ec",
   "metadata": {
    "slideshow": {
     "slide_type": "slide"
    }
   },
   "source": [
    "Let us see an example of semantic similarity, we embedd the positive reviews and find the closest reviews to each review. <br>\n",
    "\n",
    "The closest reviews are the reviews that have the smallest distance to the review in the embedding space. <br>\n",
    "\n",
    "The distance is computed using the euclidean distance between the embeddings.<br> \n",
    "\n",
    "The closest reviews are likely to have similar content or sentiment to the review."
   ]
  },
  {
   "cell_type": "code",
   "execution_count": 14,
   "id": "5aa3a4655163453f",
   "metadata": {
    "ExecuteTime": {
     "end_time": "2024-05-12T10:09:36.028314Z",
     "start_time": "2024-05-12T10:09:35.572827Z"
    },
    "slideshow": {
     "slide_type": "subslide"
    }
   },
   "outputs": [
    {
     "name": "stdout",
     "output_type": "stream",
     "text": [
      "Review:\n",
      "\t This sound track was beautiful! It paints the senery in your mind so well I would recomend it even to people who hate vid. game music! I have played the game Chrono Cross but out of all of the games I have ever played it has the best music! It backs away from crude keyboarding and takes a fresher step with grate guitars and soulful orchestras. It would impress anyone who cares to listen! ^_^\n",
      "\n",
      "Closest reviews:\n",
      "\n",
      "\t I truly like this soundtrack and I enjoy video game music. I have played this game and most of the music on here I enjoy and it's truly relaxing and peaceful.On disk one. my favorites are Scars Of Time, Between Life and Death, Forest Of Illusion, Fortress of Ancient Dragons, Lost Fragment, and Drowned Valley.Disk Two: The Draggons, Galdorb - Home, Chronomantique, Prisoners of Fate, Gale, and my girlfriend likes ZelbessDisk Three: The best of the three. Garden Of God, Chronopolis, Fates, Jellyfish sea, Burning Orphange, Dragon's Prayer, Tower Of Stars, Dragon God, and Radical Dreamers - Unstealable Jewel.Overall, this is a excellent soundtrack and should be brought by those that like video game music.Xander Cross\n",
      "-----------------------------------------------\n",
      "\n",
      "\t If you've played the game, you know how divine the music is! Every single song tells a story of the game, it's that good! The greatest songs are without a doubt, Chrono Cross: Time's Scar, Magical Dreamers: The Wind, The Stars, and the Sea and Radical Dreamers: Unstolen Jewel. (Translation varies) This music is perfect if you ask me, the best it can be. Yasunori Mitsuda just poured his heart on and wrote it down on paper.\n",
      "-----------------------------------------------\n",
      "\n",
      "##########################################################################################\n"
     ]
    }
   ],
   "source": [
    "closest_neighbors = find_nearest_neighbors(positive_embeddings, positive_embeddings, k=2)\n",
    "\n",
    "for i, neighbors in enumerate(closest_neighbors):\n",
    "    print(\"Review:\\n\\t\", positive_reviews[i])\n",
    "    print()\n",
    "    print(\"Closest reviews:\")\n",
    "    print()\n",
    "    for j, neighbor in enumerate(neighbors):\n",
    "        print(\"\\t\", positive_reviews[neighbor])\n",
    "        print(\"-----------------------------------------------\")\n",
    "        print()\n",
    "    print(\"##########################################################################################\")\n",
    "    break\n"
   ]
  },
  {
   "cell_type": "markdown",
   "id": "8e5c2ce1566dfd14",
   "metadata": {
    "slideshow": {
     "slide_type": "slide"
    }
   },
   "source": [
    "Now let's see what happens when we try to find reviews that are similar to a new review written be me"
   ]
  },
  {
   "cell_type": "code",
   "execution_count": 8,
   "id": "802ebc56a59d4e15",
   "metadata": {
    "ExecuteTime": {
     "end_time": "2024-05-12T10:09:36.072224Z",
     "start_time": "2024-05-12T10:09:36.031342Z"
    },
    "slideshow": {
     "slide_type": "fragment"
    }
   },
   "outputs": [],
   "source": [
    "new_review = \"I love my new desk! very sturdy amd reliable. I would recommend it to anyone.\"\n",
    "new_embedding = model.encode([new_review])"
   ]
  },
  {
   "cell_type": "code",
   "execution_count": 9,
   "id": "72fde15cb15f6cbf",
   "metadata": {
    "ExecuteTime": {
     "end_time": "2024-05-12T10:09:36.082554Z",
     "start_time": "2024-05-12T10:09:36.074233Z"
    },
    "slideshow": {
     "slide_type": "subslide"
    }
   },
   "outputs": [
    {
     "name": "stdout",
     "output_type": "stream",
     "text": [
      "Review: I love my new desk! very sturdy amd reliable. I would recommend it to anyone.\n",
      "Closest reviews:\n",
      "\t I was very pleased with this desk and chair- Was able to assemble it fairly easy and now my daughter is enjoying it very much- The desk is quite sturdy and the chair is strong- The delivery of my product was expedited quickly- Thank you very much\n",
      "\n",
      "-----------------------------------------------\n",
      "\n",
      "\t We bought this desk for my seven year old daughter to keep her lap top on and to do homework. It was not to disappoint. The desk is perfect size for her to sit and work. Very high quality and easy to put together. I would highly recommend this product to others?\n",
      "\n",
      "-----------------------------------------------\n",
      "\n",
      "\t This desk is definitely worth the money. My daughter wanted a white desk with a hutch and had picked out many over [...] not including the chair. I ordered this one without her knowing and at first she was upset because the hutch is not that big. But once it was assembled she loves it. She is 8 and loves the little cubbies in the hutch. Everything is packaged nicely and there was not one scratch or ding or funny smells. The hardware had everything you needed (no extras) in separate baggies for the chair and desk. I put it together myself in about 1 hour. We did replace the knob with a blue glass knob from the hardware store just to make it a little more unique I guess and it looks great. With free supersaver shipping and no sales tax, there is no better buy out there. Trust me, I have looked!\n",
      "\n",
      "-----------------------------------------------\n",
      "\n"
     ]
    }
   ],
   "source": [
    "new_closest_neighbors = find_nearest_neighbors(new_embedding, all_embeddings)\n",
    "\n",
    "for i, neighbors in enumerate(new_closest_neighbors):\n",
    "    print(\"Review:\", new_review)\n",
    "    print(\"Closest reviews:\")\n",
    "    for j, neighbor in enumerate(neighbors):\n",
    "        print(\"\\t\", all_reviews[neighbor])\n",
    "        print(\"\\n-----------------------------------------------\\n\")\n",
    "        "
   ]
  },
  {
   "cell_type": "markdown",
   "id": "375e6ed45acd4bf5",
   "metadata": {
    "slideshow": {
     "slide_type": "slide"
    }
   },
   "source": [
    "## Sentiment Analysis using Sentence Transformers\n",
    "We can use the sentence embeddings and their proximity to one another in euclidean space to perform sentiment analysis. We can use the embeddings to train a classifier that can predict the sentiment of a review based on the sentence embeddings. We can use the embeddings as features and the sentiment labels as the target variable. We can then train a classifier such as K-Nearest Neighbors to predict the sentiment of a new review based on its embedding. "
   ]
  },
  {
   "cell_type": "markdown",
   "id": "59bc31fd",
   "metadata": {
    "slideshow": {
     "slide_type": "fragment"
    }
   },
   "source": [
    " Query the first 1000 reviews and their labels"
   ]
  },
  {
   "cell_type": "code",
   "execution_count": 10,
   "id": "feffecf14e87906e",
   "metadata": {
    "ExecuteTime": {
     "end_time": "2024-05-12T10:10:06.818534Z",
     "start_time": "2024-05-12T10:09:36.084067Z"
    },
    "slideshow": {
     "slide_type": "fragment"
    }
   },
   "outputs": [],
   "source": [
    "embeddings = model.encode(df.text.tolist()[:1000])\n",
    "labels = df.polarity.to_numpy()[:1000]"
   ]
  },
  {
   "cell_type": "markdown",
   "id": "41f985f7",
   "metadata": {
    "slideshow": {
     "slide_type": "slide"
    }
   },
   "source": [
    "Train a KNN calssifier to"
   ]
  },
  {
   "cell_type": "code",
   "execution_count": 11,
   "id": "73580d4c9e593583",
   "metadata": {
    "ExecuteTime": {
     "end_time": "2024-05-12T10:12:44.899687Z",
     "start_time": "2024-05-12T10:12:44.881014Z"
    },
    "scrolled": false,
    "slideshow": {
     "slide_type": "fragment"
    }
   },
   "outputs": [
    {
     "name": "stdout",
     "output_type": "stream",
     "text": [
      "Model accuracy:  0.745\n"
     ]
    }
   ],
   "source": [
    "X_train, X_test, y_train, y_test = train_test_split(embeddings, labels, test_size=0.2, random_state=42)\n",
    "knn = KNeighborsClassifier(n_neighbors=5)\n",
    "knn.fit(X_train, y_train)\n",
    "print(\"Model accuracy: \", knn.score(X_test, y_test))"
   ]
  },
  {
   "cell_type": "markdown",
   "id": "eafd1cfa4ec534b7",
   "metadata": {
    "slideshow": {
     "slide_type": "slide"
    }
   },
   "source": [
    "## Comparing Sentence Transformers to each other\n",
    "One thing to notice, is that sentence transformers usually don't work well together. This is because they are usually trained on different datasets and have different architectures/objectives. This means that the embeddings they generate are not directly comparable. "
   ]
  },
  {
   "cell_type": "code",
   "execution_count": 12,
   "id": "9a87f76a51d6eb76",
   "metadata": {
    "ExecuteTime": {
     "end_time": "2024-05-12T10:10:19.336361Z",
     "start_time": "2024-05-12T10:10:06.881217Z"
    },
    "slideshow": {
     "slide_type": "fragment"
    }
   },
   "outputs": [
    {
     "name": "stdout",
     "output_type": "stream",
     "text": [
      "Similarity between the sentences using only model 1: 0.7395603\n",
      "Similarity between the sentences using only model 2: 0.9445546\n",
      "\n",
      "Similarity between the sentences using model 1 to model 2 : 0.03902055\n"
     ]
    }
   ],
   "source": [
    "from sentence_transformers import SentenceTransformer\n",
    "from numpy.linalg import norm\n",
    "\n",
    "sentences_to_compare = [\"When I watch Hamilton my heart melts\", \"I love watching Hamilton\"]\n",
    "model_1 = SentenceTransformer('sentence-transformers/LaBSE')\n",
    "model_2 = SentenceTransformer(\"sentence-transformers/sentence-t5-base\")\n",
    "\n",
    "embeddings_1 = model_1.encode(sentences_to_compare)\n",
    "embeddings_2 = model_2.encode(sentences_to_compare)\n",
    "\n",
    "print(\"Similarity between the sentences using only model 1:\", (embeddings_1[0] @ embeddings_1[1]) / norm(embeddings_1[0]) * norm(embeddings_1[1]))\n",
    "print(\"Similarity between the sentences using only model 2:\", (embeddings_2[0] @ embeddings_2[1]) / norm(embeddings_2[0]) * norm(embeddings_2[1]))\n",
    "print(\"\")\n",
    "print(\"Similarity between the sentences using model 1 to model 2 :\", (embeddings_1[0] @ embeddings_2[0]) / norm(embeddings_1[0]) * norm(embeddings_2[0]))\n"
   ]
  },
  {
   "cell_type": "code",
   "execution_count": null,
   "id": "b15ba814",
   "metadata": {},
   "outputs": [],
   "source": []
  }
 ],
 "metadata": {
  "celltoolbar": "Slideshow",
  "kernelspec": {
   "display_name": "Python 3 (ipykernel)",
   "language": "python",
   "name": "python3"
  },
  "language_info": {
   "codemirror_mode": {
    "name": "ipython",
    "version": 3
   },
   "file_extension": ".py",
   "mimetype": "text/x-python",
   "name": "python",
   "nbconvert_exporter": "python",
   "pygments_lexer": "ipython3",
   "version": "3.11.3"
  }
 },
 "nbformat": 4,
 "nbformat_minor": 5
}
